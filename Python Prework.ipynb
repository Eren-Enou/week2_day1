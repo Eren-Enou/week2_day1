{
 "cells": [
  {
   "cell_type": "code",
   "execution_count": 4,
   "id": "ebd1551d",
   "metadata": {},
   "outputs": [
    {
     "name": "stdout",
     "output_type": "stream",
     "text": [
      "hello_aaron!\n"
     ]
    }
   ],
   "source": [
    "def hello_name(user_name):\n",
    "    print(f\"hello_{user_name}!\")\n",
    "    \n",
    "hello_name('aaron')"
   ]
  },
  {
   "cell_type": "code",
   "execution_count": 8,
   "id": "699edf4a",
   "metadata": {},
   "outputs": [
    {
     "name": "stdout",
     "output_type": "stream",
     "text": [
      "1\n",
      "3\n",
      "5\n",
      "7\n",
      "9\n",
      "11\n",
      "13\n",
      "15\n",
      "17\n",
      "19\n",
      "21\n",
      "23\n",
      "25\n",
      "27\n",
      "29\n",
      "31\n",
      "33\n",
      "35\n",
      "37\n",
      "39\n",
      "41\n",
      "43\n",
      "45\n",
      "47\n",
      "49\n",
      "51\n",
      "53\n",
      "55\n",
      "57\n",
      "59\n",
      "61\n",
      "63\n",
      "65\n",
      "67\n",
      "69\n",
      "71\n",
      "73\n",
      "75\n",
      "77\n",
      "79\n",
      "81\n",
      "83\n",
      "85\n",
      "87\n",
      "89\n",
      "91\n",
      "93\n",
      "95\n",
      "97\n",
      "99\n"
     ]
    }
   ],
   "source": [
    "#Question 2\n",
    "#Function that prints the odd numbers from 1-100 and returns nothing\n",
    "def first_odds():\n",
    "    #iterate from 1 - 100\n",
    "    for i in range(1, 101):\n",
    "        #Check if remainder from dividing by 2\n",
    "        if i % 2 == 1:\n",
    "            print(i)"
   ]
  },
  {
   "cell_type": "code",
   "execution_count": 9,
   "id": "51fad161",
   "metadata": {},
   "outputs": [],
   "source": [
    "#Question 3\n",
    "#Function that returns the max number of a given list.\n",
    "def max_num_in_list(a_list):\n",
    "    #Check if list is empty\n",
    "    if not a_list:\n",
    "        return None\n",
    "    #Initialize max_num with first element of list\n",
    "    max_num = a_list[0]\n",
    "    #iterate over list\n",
    "    for num in a_list:\n",
    "        #if element is greater than max, update max\n",
    "        if num > max_num:\n",
    "            max_num = num\n",
    "    return max_num"
   ]
  },
  {
   "cell_type": "code",
   "execution_count": 10,
   "id": "7f5887c9",
   "metadata": {},
   "outputs": [],
   "source": [
    "#Question 4\n",
    "#Function that returns if the given year is a leap year.\n",
    "def is_leap_year(a_year):\n",
    "    if a_year % 4 == 0:\n",
    "        if a_year % 100 == 0:\n",
    "            if a_year % 400 == 0:\n",
    "                #divisible by 4, 100, and 400\n",
    "                return True\n",
    "            #divisible by 4 and 100, not 400\n",
    "            else:\n",
    "                return False\n",
    "        #divisible by 4 and not 100\n",
    "        else:  \n",
    "            return True\n",
    "    #not divisible by 4        \n",
    "    else:\n",
    "        return False"
   ]
  },
  {
   "cell_type": "code",
   "execution_count": 11,
   "id": "cadd9172",
   "metadata": {},
   "outputs": [],
   "source": [
    "#Question 5\n",
    "#Function to check to see if all numbers in list are consecutive numbers.\n",
    "def is_consecutive(a_list):\n",
    "    # Check if list is empty\n",
    "    if not a_list:\n",
    "        return True\n",
    "    # Check if list has only one element\n",
    "    if len(a_list) == 1:\n",
    "        return True\n",
    "    # Check if numbers in list are consecutive\n",
    "    for i in range(1, len(a_list)):\n",
    "        if a_list[i] - a_list[i-1] != 1:\n",
    "            return False\n",
    "    # If checks pass, return True\n",
    "    return True"
   ]
  },
  {
   "cell_type": "code",
   "execution_count": null,
   "id": "ed4daf30",
   "metadata": {},
   "outputs": [],
   "source": []
  }
 ],
 "metadata": {
  "kernelspec": {
   "display_name": "Python 3 (ipykernel)",
   "language": "python",
   "name": "python3"
  },
  "language_info": {
   "codemirror_mode": {
    "name": "ipython",
    "version": 3
   },
   "file_extension": ".py",
   "mimetype": "text/x-python",
   "name": "python",
   "nbconvert_exporter": "python",
   "pygments_lexer": "ipython3",
   "version": "3.9.13"
  }
 },
 "nbformat": 4,
 "nbformat_minor": 5
}
